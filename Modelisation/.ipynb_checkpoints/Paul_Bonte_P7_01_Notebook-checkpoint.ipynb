{
 "cells": [
  {
   "cell_type": "markdown",
   "id": "bb2cd6ae",
   "metadata": {},
   "source": [
    "# Initialisation des packages et chargement du jeu de données"
   ]
  },
  {
   "cell_type": "code",
   "execution_count": 1,
   "id": "02186171",
   "metadata": {},
   "outputs": [],
   "source": [
    "import pandas as pd\n",
    "import numpy as np\n",
    "import matplotlib.pyplot as plt\n",
    "import seaborn as sns\n",
    "import sklearn\n",
    "import warnings"
   ]
  },
  {
   "cell_type": "code",
   "execution_count": null,
   "id": "f983038f",
   "metadata": {},
   "outputs": [],
   "source": [
    "dir_file = 'C:/Users/paul.bonte/Formation OC/P7_Bonte_Paul/data/'\n",
    "\n",
    "test = pd.read_csv(dir_file + 'application_test.csv')\n",
    "train = pd.read_csv(dir_file + 'application_train.csv')\n",
    "bureau = pd.read_csv(dir_file + 'bureau.csv')\n",
    "bureau_balance = pd.read_csv(dir_file + 'bureau_balance.csv')\n",
    "cc = pd.read_csv(dir_file + 'credit_card_balance.csv')\n",
    "instal_paiement = pd.read_csv(dir_file + 'installments_payments.csv')\n",
    "POS_cash = pd.read_csv(dir_file + 'POS_CASH_balance.csv')"
   ]
  },
  {
   "cell_type": "code",
   "execution_count": null,
   "id": "47e56ff7",
   "metadata": {},
   "outputs": [],
   "source": [
    "print(test.info())"
   ]
  },
  {
   "cell_type": "code",
   "execution_count": null,
   "id": "c5144de7",
   "metadata": {},
   "outputs": [],
   "source": [
    "print(train.info())"
   ]
  },
  {
   "cell_type": "code",
   "execution_count": null,
   "id": "8841c14e",
   "metadata": {},
   "outputs": [],
   "source": [
    "print(bureau.info())"
   ]
  },
  {
   "cell_type": "code",
   "execution_count": null,
   "id": "2c6b27f6",
   "metadata": {},
   "outputs": [],
   "source": [
    "print(bureau_balance.info())"
   ]
  },
  {
   "cell_type": "code",
   "execution_count": null,
   "id": "9ae2bbdd",
   "metadata": {},
   "outputs": [],
   "source": [
    "print(cc.info())"
   ]
  },
  {
   "cell_type": "code",
   "execution_count": null,
   "id": "66949336",
   "metadata": {},
   "outputs": [],
   "source": [
    "print(instal_paiement.info())"
   ]
  },
  {
   "cell_type": "code",
   "execution_count": null,
   "id": "7bc17d0a",
   "metadata": {},
   "outputs": [],
   "source": [
    "print(POS_cash.info())"
   ]
  },
  {
   "cell_type": "markdown",
   "id": "28f97cfa",
   "metadata": {},
   "source": [
    "# Feature engineering"
   ]
  },
  {
   "cell_type": "markdown",
   "id": "9cd7a7be",
   "metadata": {},
   "source": [
    "## Variable de regroupement"
   ]
  },
  {
   "cell_type": "code",
   "execution_count": null,
   "id": "964effb3",
   "metadata": {},
   "outputs": [],
   "source": [
    "print(\"train data: %s rows and %s cols\"%train.shape)\n",
    "print(\"Credit Card Balance: %s rows and %s cols\"%cc.shape)\n",
    "print(\"Bureau: %s rows and %s cols\"%bureau.shape)\n",
    "print(\"Installments Payments: %s rows and %s cols\"%instal_paiement.shape)\n",
    "print(\"POS_cash: %s rows and %s cols\"%POS_cash.shape)"
   ]
  },
  {
   "cell_type": "code",
   "execution_count": null,
   "id": "caee4d83",
   "metadata": {},
   "outputs": [],
   "source": [
    "print(train.SK_ID_CURR.nunique())\n",
    "print(cc.SK_ID_CURR.nunique())\n",
    "print(bureau.SK_ID_CURR.nunique())\n",
    "print(instal_paiement.SK_ID_CURR.nunique())\n",
    "print(POS_cash.SK_ID_CURR.nunique())"
   ]
  },
  {
   "cell_type": "markdown",
   "id": "cf47bfa4",
   "metadata": {},
   "source": [
    "## Création des features"
   ]
  },
  {
   "cell_type": "code",
   "execution_count": null,
   "id": "7a70517c",
   "metadata": {},
   "outputs": [],
   "source": [
    "# Dépenses du mois avant crédit / limite de retrait mensuel : Reste t il de l'argent dispo \n",
    "cc['AMT_DRAWINGS_PCT'] = [x/y if (y != 0) & pd.notnull(y) else np.nan for x,y in zip(cc.AMT_DRAWINGS_CURRENT,cc.AMT_CREDIT_LIMIT_ACTUAL)]\n",
    "# retrait cash du mois avant crédit / limite de retrait mensuel\n",
    "cc['AMT_DRAWINGS_ATM_PCT'] = [x/y if (y != 0) & pd.notnull(y) else np.nan for x,y in zip(cc.AMT_DRAWINGS_ATM_CURRENT,cc.AMT_CREDIT_LIMIT_ACTUAL)]\n",
    "# Autres retrait mois avant crédit /  limite de retrait mensuel\n",
    "cc['AMT_DRAWINGS_OTHER_PCT'] = [x/y if (y != 0) & pd.notnull(y) else np.nan for x,y in zip(cc.AMT_DRAWINGS_OTHER_CURRENT,cc.AMT_CREDIT_LIMIT_ACTUAL)]\n",
    "# Montant tiré ou acheté des biens au cours du mois du crédit précédent /  limite de retrait mensuel\n",
    "cc['AMT_DRAWINGS_POS_PCT'] = [x/y if (y != 0) & pd.notnull(y) else np.nan for x,y in zip(cc.AMT_DRAWINGS_POS_CURRENT,cc.AMT_CREDIT_LIMIT_ACTUAL)]\n",
    "# Montant restant sur le crédit précédent / Montant à recevoir sur le crédit précédent\n",
    "cc['AMT_PRINCIPAL_RECEIVABLE_PCT'] = [x/y if (y != 0) & pd.notnull(y) else np.nan for x,y in zip(cc.AMT_RECEIVABLE_PRINCIPAL,cc.AMT_RECIVABLE)]\n",
    "\n",
    "# On récupère la moyenne des principaux indicateurs du doc cc : balance carte bleue, retraits, ...\n",
    "cc_use = cc.groupby(['SK_ID_CURR'],as_index=False).agg({'AMT_BALANCE': np.mean,\n",
    "                                                        'AMT_DRAWINGS_PCT':np.mean,\n",
    "                                                        'AMT_DRAWINGS_ATM_PCT':np.mean,\n",
    "                                                        'AMT_DRAWINGS_OTHER_PCT':np.mean,\n",
    "                                                        'AMT_DRAWINGS_POS_PCT':np.mean,\n",
    "                                                        'AMT_PRINCIPAL_RECEIVABLE_PCT':np.mean,\n",
    "                                                        'CNT_DRAWINGS_ATM_CURRENT':np.mean,\n",
    "                                                        'CNT_DRAWINGS_CURRENT':np.mean,\n",
    "                                                        'CNT_DRAWINGS_OTHER_CURRENT':np.mean,\n",
    "                                                        'CNT_DRAWINGS_POS_CURRENT':np.mean,\n",
    "                                                        'SK_DPD':np.mean,\n",
    "                                                        'SK_DPD_DEF':np.mean})\n",
    "# Date échéance prévu - date de paiement : retard ?\n",
    "instal_paiement['DAYS_INSTALMENT_DIFF'] = instal_paiement['DAYS_INSTALMENT'] - instal_paiement['DAYS_ENTRY_PAYMENT']\n",
    "# Ce que le client a réellement payé sur le crédit précédent / ce qui aurait du l'etre\n",
    "instal_paiement['AMT_PATMENT_PCT'] = [x/y if (y != 0) & pd.notnull(y) else np.nan for x,y in zip(instal_paiement.AMT_PAYMENT,instal_paiement.AMT_INSTALMENT)]\n",
    "# On récupère la moyenne des principaux indicateurs du doc \n",
    "pmts_use = instal_paiement.groupby(['SK_ID_CURR'],as_index=False).agg({'DAYS_INSTALMENT_DIFF':np.mean,\n",
    "                                                            'AMT_PATMENT_PCT':np.mean})   "
   ]
  },
  {
   "cell_type": "markdown",
   "id": "79b73fd9",
   "metadata": {},
   "source": [
    "## Merge et récupération du Df final"
   ]
  },
  {
   "cell_type": "code",
   "execution_count": null,
   "id": "e40c849e",
   "metadata": {},
   "outputs": [],
   "source": [
    "# Merge Credit Card Balance & Installment Payments\n",
    "train = train.merge(cc_use,on='SK_ID_CURR',how='left')\n",
    "train = train.merge(pmts_use,on='SK_ID_CURR',how='left')\n",
    "train.to_csv('train.csv', index=False)"
   ]
  },
  {
   "cell_type": "code",
   "execution_count": null,
   "id": "f0c45f28",
   "metadata": {},
   "outputs": [],
   "source": [
    "print(train.shape)"
   ]
  },
  {
   "cell_type": "markdown",
   "id": "824864b3",
   "metadata": {},
   "source": [
    "# EDA"
   ]
  },
  {
   "cell_type": "markdown",
   "id": "c1d406a7",
   "metadata": {},
   "source": [
    "## Exploration des données"
   ]
  },
  {
   "cell_type": "code",
   "execution_count": null,
   "id": "c53fa2c2",
   "metadata": {},
   "outputs": [],
   "source": [
    "train.describe()"
   ]
  },
  {
   "cell_type": "code",
   "execution_count": null,
   "id": "a2233c96",
   "metadata": {
    "scrolled": true
   },
   "outputs": [],
   "source": [
    "train.hist(figsize=(150,150))"
   ]
  },
  {
   "cell_type": "code",
   "execution_count": null,
   "id": "62952fa7",
   "metadata": {
    "scrolled": false
   },
   "outputs": [],
   "source": [
    "for col in train.columns:\n",
    "    if train[col].dtype == 'object':\n",
    "        print(\"object column %s have %s unique values\"%(str(col),train[col].nunique()))\n",
    "        if train[col].nunique() <= 3:\n",
    "            print(train[col].value_counts(dropna = False))\n",
    "            print('-------------')\n",
    "        else:\n",
    "            ax = sns.catplot(x=col, kind=\"count\", data=train,height=6, aspect=2.2)\n",
    "            for axes in ax.axes.flat:\n",
    "                axes.set_xticklabels(axes.get_xticklabels(),rotation = 45,horizontalalignment = 'right')"
   ]
  },
  {
   "cell_type": "code",
   "execution_count": null,
   "id": "4d2b9c2a",
   "metadata": {
    "scrolled": true
   },
   "outputs": [],
   "source": [
    "train['CODE_GENDER'].unique()"
   ]
  },
  {
   "cell_type": "code",
   "execution_count": null,
   "id": "2f193f52",
   "metadata": {},
   "outputs": [],
   "source": [
    "train = train[train['CODE_GENDER'] != 'XNA']"
   ]
  },
  {
   "cell_type": "code",
   "execution_count": null,
   "id": "5526c91e",
   "metadata": {
    "scrolled": false
   },
   "outputs": [],
   "source": [
    "train['ORGANIZATION_TYPE'].unique()"
   ]
  },
  {
   "cell_type": "code",
   "execution_count": null,
   "id": "340d5079",
   "metadata": {},
   "outputs": [],
   "source": [
    "train['ORGANIZATION_TYPE'] = train.ORGANIZATION_TYPE.apply(lambda x: 'Industry' if 'Industry' in x else x)\n",
    "train['ORGANIZATION_TYPE'] = train.ORGANIZATION_TYPE.apply(lambda x: 'Trade' if 'Trade' in x else x)\n",
    "train['ORGANIZATION_TYPE'] = train.ORGANIZATION_TYPE.apply(lambda x: 'Business Entity' if 'Business Entity' in x else x)\n",
    "train['ORGANIZATION_TYPE'] = train.ORGANIZATION_TYPE.apply(lambda x: 'Transport' if 'Transport' in x else x)\n",
    "print(train['ORGANIZATION_TYPE'].unique())"
   ]
  },
  {
   "cell_type": "code",
   "execution_count": null,
   "id": "3a8ae3d0",
   "metadata": {},
   "outputs": [],
   "source": [
    "sns.catplot(x='ORGANIZATION_TYPE', kind=\"count\", data=train,height=6, aspect=2.2)"
   ]
  },
  {
   "cell_type": "markdown",
   "id": "dcf41ba6",
   "metadata": {},
   "source": [
    "## Données manquantes"
   ]
  },
  {
   "cell_type": "code",
   "execution_count": null,
   "id": "e9d51e8a",
   "metadata": {},
   "outputs": [],
   "source": [
    "# Ajouter dans une variable un dataframe comprenant le % de valeur manquante par colonne\n",
    "Nb_missing = pd.DataFrame(train.isna().sum()/train.shape[0]*100)\n",
    "Nb_missing.columns = [\"p_missing\"]\n",
    "Nb_missing.sort_values(ascending = False, by = 'p_missing', inplace=True)\n",
    "\n",
    "# Représentation graphique\n",
    "fig1 = sns.barplot(x = Nb_missing.index, y = \"p_missing\" , data = Nb_missing)\n",
    "sns.set(rc={'figure.figsize':(10,20)})\n",
    "plt.xticks(rotation=90)\n",
    "print(fig1)"
   ]
  },
  {
   "cell_type": "code",
   "execution_count": null,
   "id": "5644d88e",
   "metadata": {},
   "outputs": [],
   "source": [
    "train = train[train.columns[train.isnull().mean() < 0.4]]"
   ]
  },
  {
   "cell_type": "code",
   "execution_count": null,
   "id": "5efcdfd2",
   "metadata": {
    "scrolled": true
   },
   "outputs": [],
   "source": [
    "# Ajouter dans une variable un dataframe comprenant le % de valeur manquante par colonne\n",
    "Nb_missing = pd.DataFrame(train.isna().sum()/train.shape[0]*100)\n",
    "Nb_missing.columns = [\"p_missing\"]\n",
    "Nb_missing.sort_values(ascending = False, by = 'p_missing', inplace=True)\n",
    "\n",
    "# Représentation graphique\n",
    "fig1 = sns.barplot(x = Nb_missing.index, y = \"p_missing\" , data = Nb_missing)\n",
    "sns.set(rc={'figure.figsize':(12,12)})\n",
    "plt.xticks(rotation=90)\n",
    "print(fig1)"
   ]
  },
  {
   "cell_type": "code",
   "execution_count": null,
   "id": "771f2f1c",
   "metadata": {},
   "outputs": [],
   "source": [
    "train.shape"
   ]
  },
  {
   "cell_type": "markdown",
   "id": "a11d769e",
   "metadata": {},
   "source": [
    "## Analyse TARGET"
   ]
  },
  {
   "cell_type": "code",
   "execution_count": null,
   "id": "e7e85ae3",
   "metadata": {},
   "outputs": [],
   "source": [
    "train.TARGET.value_counts(normalize= True)"
   ]
  },
  {
   "cell_type": "code",
   "execution_count": null,
   "id": "7211b625",
   "metadata": {},
   "outputs": [],
   "source": [
    "train['TARGET'].plot.hist(title = 'target')"
   ]
  },
  {
   "cell_type": "markdown",
   "id": "c23dc08a",
   "metadata": {},
   "source": [
    "## Analyse des corrélations"
   ]
  },
  {
   "cell_type": "code",
   "execution_count": null,
   "id": "0526c23d",
   "metadata": {},
   "outputs": [],
   "source": [
    "mat_corr = train.corr()\n",
    "ax = sns.heatmap(abs(mat_corr) , annot = True , cmap = 'coolwarm')\n",
    "ax.set_yticklabels(ax.get_ymajorticklabels(), fontsize = 18)\n",
    "ax.set_xticklabels(ax.get_xmajorticklabels(), fontsize = 18)\n",
    "ax"
   ]
  },
  {
   "cell_type": "code",
   "execution_count": null,
   "id": "61c091f0",
   "metadata": {},
   "outputs": [],
   "source": [
    "correlations = train.corr()['TARGET'].sort_values()\n",
    "print('Most Positive Correlations:\\n', correlations.tail(8))\n",
    "print('\\nMost Negative Correlations:\\n', correlations.head(8))"
   ]
  },
  {
   "cell_type": "code",
   "execution_count": null,
   "id": "7fe245c7",
   "metadata": {},
   "outputs": [],
   "source": [
    "pos_corr = correlations.tail(8)\n",
    "df_pos = train[pos_corr.index]\n",
    "df_pos.hist()"
   ]
  },
  {
   "cell_type": "code",
   "execution_count": null,
   "id": "389e191f",
   "metadata": {},
   "outputs": [],
   "source": [
    "neg_corr = correlations.tail(8)\n",
    "df_pos = train[neg_corr.index]\n",
    "df_pos.hist()"
   ]
  },
  {
   "cell_type": "markdown",
   "id": "99f6f8e4",
   "metadata": {},
   "source": [
    "# Preprocessing"
   ]
  },
  {
   "cell_type": "markdown",
   "id": "9bbfa5c6",
   "metadata": {},
   "source": [
    "## Split des données"
   ]
  },
  {
   "cell_type": "code",
   "execution_count": null,
   "id": "94660d5f",
   "metadata": {
    "scrolled": false
   },
   "outputs": [],
   "source": [
    "y_columns = ['TARGET']\n",
    "X_id = train.drop(y_columns, axis=1)\n",
    "print(X_id.shape)\n",
    "y = train[y_columns]\n",
    "print(y.shape)"
   ]
  },
  {
   "cell_type": "code",
   "execution_count": null,
   "id": "2556428c",
   "metadata": {},
   "outputs": [],
   "source": [
    "X_id = pd.get_dummies(X_id)"
   ]
  },
  {
   "cell_type": "code",
   "execution_count": null,
   "id": "340e8a9b",
   "metadata": {},
   "outputs": [],
   "source": [
    "X = X_id.drop(['SK_ID_CURR'],axis=1).reset_index(drop=True)"
   ]
  },
  {
   "cell_type": "code",
   "execution_count": null,
   "id": "6498a1e7",
   "metadata": {},
   "outputs": [],
   "source": [
    "from sklearn.model_selection import train_test_split\n",
    "X_train, X_test, y_train, y_test = train_test_split(X, y, test_size = 0.3, stratify = y)"
   ]
  },
  {
   "cell_type": "markdown",
   "id": "1475f6b6",
   "metadata": {},
   "source": [
    "## Création pipelines"
   ]
  },
  {
   "cell_type": "code",
   "execution_count": null,
   "id": "d42290a0",
   "metadata": {},
   "outputs": [],
   "source": [
    "from sklearn.impute import SimpleImputer\n",
    "from sklearn.pipeline import Pipeline\n",
    "from sklearn.preprocessing import OneHotEncoder\n",
    "from imblearn.over_sampling import SMOTE\n",
    "from sklearn.preprocessing import RobustScaler\n",
    "from sklearn.preprocessing import StandardScaler"
   ]
  },
  {
   "cell_type": "code",
   "execution_count": null,
   "id": "e0aaed89",
   "metadata": {},
   "outputs": [],
   "source": [
    "categorical_pipeline = Pipeline(steps=[(\"impute\", SimpleImputer(strategy=\"most_frequent\"))])"
   ]
  },
  {
   "cell_type": "code",
   "execution_count": null,
   "id": "440db58a",
   "metadata": {},
   "outputs": [],
   "source": [
    "numeric_pipeline = Pipeline(steps=[(\"impute\", SimpleImputer(strategy=\"median\")), \n",
    "           (\"scale\", RobustScaler())])"
   ]
  },
  {
   "cell_type": "code",
   "execution_count": null,
   "id": "e2563707",
   "metadata": {},
   "outputs": [],
   "source": [
    "cat_cols = X_train.select_dtypes(exclude=\"number\").columns\n",
    "num_cols = X_train.select_dtypes(exclude=[\"bool_\",\"object_\"]).columns"
   ]
  },
  {
   "cell_type": "code",
   "execution_count": null,
   "id": "6dfc2a01",
   "metadata": {},
   "outputs": [],
   "source": [
    "from sklearn.compose import ColumnTransformer\n",
    "\n",
    "full_processor = ColumnTransformer(transformers=[(\"numeric\", numeric_pipeline, num_cols),\n",
    "        (\"categorical\", categorical_pipeline, cat_cols),])"
   ]
  },
  {
   "cell_type": "code",
   "execution_count": null,
   "id": "36bc9619",
   "metadata": {
    "scrolled": false
   },
   "outputs": [],
   "source": [
    "X_train_pro = full_processor.fit_transform(X_train)"
   ]
  },
  {
   "cell_type": "code",
   "execution_count": null,
   "id": "84e545c2",
   "metadata": {},
   "outputs": [],
   "source": [
    "data = pd.DataFrame(data = X_train_pro, columns = X.columns)"
   ]
  },
  {
   "cell_type": "code",
   "execution_count": null,
   "id": "f6de1128",
   "metadata": {},
   "outputs": [],
   "source": []
  },
  {
   "cell_type": "code",
   "execution_count": null,
   "id": "42a89d7f",
   "metadata": {},
   "outputs": [],
   "source": [
    "data[\"SK_ID_CURR\"] = X_id['SK_ID_CURR']"
   ]
  },
  {
   "cell_type": "code",
   "execution_count": null,
   "id": "d7756905",
   "metadata": {},
   "outputs": [],
   "source": [
    "data.to_csv('data.csv', index=False)"
   ]
  },
  {
   "cell_type": "code",
   "execution_count": null,
   "id": "121d2a28",
   "metadata": {},
   "outputs": [],
   "source": [
    "X_test_pro = full_processor.transform(X_test)"
   ]
  },
  {
   "cell_type": "markdown",
   "id": "46d18cb5",
   "metadata": {},
   "source": [
    "## Resampling"
   ]
  },
  {
   "cell_type": "code",
   "execution_count": null,
   "id": "eb546e74",
   "metadata": {},
   "outputs": [],
   "source": [
    "from imblearn.over_sampling import SMOTE"
   ]
  },
  {
   "cell_type": "code",
   "execution_count": null,
   "id": "63ee1944",
   "metadata": {
    "scrolled": true
   },
   "outputs": [],
   "source": [
    "print(X_train_pro.shape)\n",
    "print(y_train.shape)"
   ]
  },
  {
   "cell_type": "code",
   "execution_count": null,
   "id": "6ab4adda",
   "metadata": {},
   "outputs": [],
   "source": [
    "y_train_imb = np.ravel(y_train)"
   ]
  },
  {
   "cell_type": "code",
   "execution_count": null,
   "id": "073c99e9",
   "metadata": {},
   "outputs": [],
   "source": [
    "smt = SMOTE()\n",
    "X_train_imp , y_train_imp = smt.fit_resample(X_train_pro,y_train)"
   ]
  },
  {
   "cell_type": "code",
   "execution_count": null,
   "id": "38c7dd11",
   "metadata": {},
   "outputs": [],
   "source": [
    "print(X_train_imp.shape)\n",
    "print(y_train_imp.shape)"
   ]
  },
  {
   "cell_type": "code",
   "execution_count": null,
   "id": "a8ba7d8c",
   "metadata": {},
   "outputs": [],
   "source": [
    "y_train_imp = np.ravel(y_train_imp)"
   ]
  },
  {
   "cell_type": "markdown",
   "id": "c5a71d25",
   "metadata": {},
   "source": [
    "## Récupérer les noms des features"
   ]
  },
  {
   "cell_type": "code",
   "execution_count": null,
   "id": "a85ecff4",
   "metadata": {},
   "outputs": [],
   "source": [
    "def get_feature_names(column_transformer):\n",
    "    \"\"\"Get feature names from all transformers.\n",
    "    Returns\n",
    "    -------\n",
    "    feature_names : list of strings\n",
    "        Names of the features produced by transform.\n",
    "    \"\"\"\n",
    "    # Remove the internal helper function\n",
    "    #check_is_fitted(column_transformer)\n",
    "    \n",
    "    # Turn loopkup into function for better handling with pipeline later\n",
    "    def get_names(trans):\n",
    "        # >> Original get_feature_names() method\n",
    "        if trans == 'drop' or (\n",
    "                hasattr(column, '__len__') and not len(column)):\n",
    "            return []\n",
    "        if trans == 'passthrough':\n",
    "            if hasattr(column_transformer, '_df_columns'):\n",
    "                if ((not isinstance(column, slice))\n",
    "                        and all(isinstance(col, str) for col in column)):\n",
    "                    return column\n",
    "                else:\n",
    "                    return column_transformer._df_columns[column]\n",
    "            else:\n",
    "                indices = np.arange(column_transformer._n_features)\n",
    "                return ['x%d' % i for i in indices[column]]\n",
    "        if not hasattr(trans, 'get_feature_names'):\n",
    "        # >>> Change: Return input column names if no method avaiable\n",
    "            # Turn error into a warning\n",
    "            warnings.warn(\"Transformer %s (type %s) does not \"\n",
    "                                 \"provide get_feature_names. \"\n",
    "                                 \"Will return input column names if available\"\n",
    "                                 % (str(name), type(trans).__name__))\n",
    "            # For transformers without a get_features_names method, use the input\n",
    "            # names to the column transformer\n",
    "            if column is None:\n",
    "                return []\n",
    "            else:\n",
    "                return [name + \"__\" + f for f in column]\n",
    "\n",
    "        return [name + \"__\" + f for f in trans.get_feature_names()]\n",
    "    \n",
    "    ### Start of processing\n",
    "    feature_names = []\n",
    "    \n",
    "    # Allow transformers to be pipelines. Pipeline steps are named differently, so preprocessing is needed\n",
    "    if type(column_transformer) == sklearn.pipeline.Pipeline:\n",
    "        l_transformers = [(name, trans, None, None) for step, name, trans in column_transformer._iter()]\n",
    "    else:\n",
    "        # For column transformers, follow the original method\n",
    "        l_transformers = list(column_transformer._iter(fitted=True))\n",
    "    \n",
    "    \n",
    "    for name, trans, column, _ in l_transformers: \n",
    "        if type(trans) == sklearn.pipeline.Pipeline:\n",
    "            # Recursive call on pipeline\n",
    "            _names = get_feature_names(trans)\n",
    "            # if pipeline has no transformer that returns names\n",
    "            if len(_names)==0:\n",
    "                _names = [name + \"__\" + f for f in column]\n",
    "            feature_names.extend(_names)\n",
    "        else:\n",
    "            feature_names.extend(get_names(trans))\n",
    "    \n",
    "    return feature_names"
   ]
  },
  {
   "cell_type": "code",
   "execution_count": null,
   "id": "215e7abf",
   "metadata": {},
   "outputs": [],
   "source": [
    "names = get_feature_names(full_processor)"
   ]
  },
  {
   "cell_type": "markdown",
   "id": "8df038ed",
   "metadata": {},
   "source": [
    "# Modélisation"
   ]
  },
  {
   "cell_type": "markdown",
   "id": "62227471",
   "metadata": {},
   "source": [
    "## Baseline"
   ]
  },
  {
   "cell_type": "code",
   "execution_count": null,
   "id": "87224463",
   "metadata": {},
   "outputs": [],
   "source": [
    "from sklearn import dummy \n",
    "from sklearn import metrics"
   ]
  },
  {
   "cell_type": "code",
   "execution_count": null,
   "id": "e6b3dd71",
   "metadata": {},
   "outputs": [],
   "source": [
    "my_dummy = dummy.DummyClassifier(strategy = 'most_frequent')"
   ]
  },
  {
   "cell_type": "code",
   "execution_count": null,
   "id": "6dd8f793",
   "metadata": {
    "scrolled": true
   },
   "outputs": [],
   "source": [
    "my_dummy.fit(X = X_train_imp, y = y_train_imp)"
   ]
  },
  {
   "cell_type": "code",
   "execution_count": null,
   "id": "107cb25f",
   "metadata": {
    "scrolled": true
   },
   "outputs": [],
   "source": [
    "y_prob_dummy = (my_dummy.predict_proba(X_test_pro)[:,1]).astype('float16')"
   ]
  },
  {
   "cell_type": "code",
   "execution_count": null,
   "id": "c034c017",
   "metadata": {},
   "outputs": [],
   "source": [
    "fpr_dummy, tpr_dummy, th_dummy = metrics.roc_curve(y_test, y_prob_dummy)\n",
    "roc_auc_dummy = metrics.auc(fpr_dummy, tpr_dummy)\n",
    "print(roc_auc_dummy)"
   ]
  },
  {
   "cell_type": "code",
   "execution_count": null,
   "id": "085f0953",
   "metadata": {
    "scrolled": false
   },
   "outputs": [],
   "source": [
    "sns.set(rc={'figure.figsize':(4,8)})\n",
    "plt.plot(fpr_dummy, tpr_dummy ,linestyle='--', label = \"Dummy AUC %0.2f\" % roc_auc_dummy)"
   ]
  },
  {
   "cell_type": "code",
   "execution_count": null,
   "id": "1903123f",
   "metadata": {},
   "outputs": [],
   "source": [
    "cm = metrics.confusion_matrix(y_true= y_test, y_pred = (y_prob_dummy >= 0.5).astype(int) )\n",
    "disp = metrics.ConfusionMatrixDisplay(confusion_matrix = cm)\n",
    "sns.set(rc={'figure.figsize':(4,8)})\n",
    "disp.plot()"
   ]
  },
  {
   "cell_type": "markdown",
   "id": "bbd49a26",
   "metadata": {},
   "source": [
    "## Régression Logistique"
   ]
  },
  {
   "cell_type": "code",
   "execution_count": null,
   "id": "f534aa11",
   "metadata": {},
   "outputs": [],
   "source": [
    "from sklearn.linear_model import LogisticRegression\n",
    "from sklearn import svm, datasets\n",
    "from sklearn.model_selection import GridSearchCV\n",
    "from sklearn.metrics import accuracy_score, precision_recall_curve, f1_score, roc_auc_score, roc_curve, confusion_matrix, recall_score\n",
    "from datetime import datetime"
   ]
  },
  {
   "cell_type": "code",
   "execution_count": null,
   "id": "e21206e7",
   "metadata": {},
   "outputs": [],
   "source": [
    "log_reg = LogisticRegression(solver = 'liblinear')"
   ]
  },
  {
   "cell_type": "markdown",
   "id": "760cfc14",
   "metadata": {},
   "source": [
    "### Imbalanced"
   ]
  },
  {
   "cell_type": "code",
   "execution_count": null,
   "id": "541cd9c2",
   "metadata": {},
   "outputs": [],
   "source": [
    "log_reg.fit(X_train_pro, y_train_imb)"
   ]
  },
  {
   "cell_type": "code",
   "execution_count": null,
   "id": "2f6ba58e",
   "metadata": {},
   "outputs": [],
   "source": [
    "y_prob_log = (log_reg.predict_proba(X_test_pro)[:,1]).astype('float16')"
   ]
  },
  {
   "cell_type": "code",
   "execution_count": null,
   "id": "d549d987",
   "metadata": {},
   "outputs": [],
   "source": [
    "y_pred_log = log_reg.predict(X_test_pro)"
   ]
  },
  {
   "cell_type": "code",
   "execution_count": null,
   "id": "07cf3689",
   "metadata": {},
   "outputs": [],
   "source": [
    "sns.histplot(y_prob_log)"
   ]
  },
  {
   "cell_type": "code",
   "execution_count": null,
   "id": "50d73390",
   "metadata": {},
   "outputs": [],
   "source": [
    "fpr_log, tpr_log, th_log = metrics.roc_curve(y_test, y_prob_log)\n",
    "roc_auc_log = metrics.auc(fpr_log, tpr_log)\n",
    "print('ROC_AUC:', roc_auc_log)\n",
    "accuracy_score_log = accuracy_score(y_test, y_pred_log)\n",
    "print('Accuracy_score:', accuracy_score_log)\n",
    "recall_log = recall_score(y_test, y_pred_log)\n",
    "print('Recall:' , recall_log)\n",
    "f1_log = f1_score(y_test, y_pred_log)\n",
    "print('f1_score:' , f1_log)"
   ]
  },
  {
   "cell_type": "code",
   "execution_count": null,
   "id": "b8e3c2df",
   "metadata": {},
   "outputs": [],
   "source": [
    "plt.plot(fpr_log, tpr_log ,linestyle='--', label = \"Log_grid AUC %0.2f\" % roc_auc_log)\n",
    "plt.plot(fpr_dummy, tpr_dummy ,linestyle='-', label = \"Dummy AUC %0.2f\" % roc_auc_dummy)"
   ]
  },
  {
   "cell_type": "code",
   "execution_count": null,
   "id": "dcb92923",
   "metadata": {},
   "outputs": [],
   "source": [
    "cm = metrics.confusion_matrix(y_true=y_test, y_pred = (y_prob_log >= 0.5).astype(int) )\n",
    "disp = metrics.ConfusionMatrixDisplay(confusion_matrix = cm)\n",
    "sns.set(rc={'figure.figsize':(4,8)})\n",
    "disp.plot()"
   ]
  },
  {
   "cell_type": "markdown",
   "id": "810627b5",
   "metadata": {},
   "source": [
    "### Balanced"
   ]
  },
  {
   "cell_type": "code",
   "execution_count": null,
   "id": "f408d59c",
   "metadata": {},
   "outputs": [],
   "source": [
    "start_time = datetime.now()\n",
    "log_reg.fit(X_train_imp, y_train_imp)\n",
    "end_time = datetime.now()\n",
    "log_time = end_time - start_time"
   ]
  },
  {
   "cell_type": "code",
   "execution_count": null,
   "id": "cbe2585b",
   "metadata": {},
   "outputs": [],
   "source": [
    "y_prob_log = (log_reg.predict_proba(X_test_pro)[:,1]).astype('float16')"
   ]
  },
  {
   "cell_type": "code",
   "execution_count": null,
   "id": "d95c69aa",
   "metadata": {},
   "outputs": [],
   "source": [
    "y_pred_log = log_reg.predict(X_test_pro)"
   ]
  },
  {
   "cell_type": "code",
   "execution_count": null,
   "id": "d963284b",
   "metadata": {},
   "outputs": [],
   "source": [
    "sns.histplot(y_prob_log)"
   ]
  },
  {
   "cell_type": "code",
   "execution_count": null,
   "id": "a953b2e1",
   "metadata": {
    "scrolled": true
   },
   "outputs": [],
   "source": [
    "fpr_log, tpr_log, th_log = metrics.roc_curve(y_test, y_prob_log)\n",
    "roc_auc_log = metrics.auc(fpr_log, tpr_log)\n",
    "print('ROC_AUC:', roc_auc_log)\n",
    "accuracy_score_log = accuracy_score(y_test, y_pred_log)\n",
    "print('Accuracy_score:', accuracy_score_log)\n",
    "recall_log = recall_score(y_test, y_pred_log)\n",
    "print('Recall:' , recall_log)\n",
    "f1_log = f1_score(y_test, y_pred_log)\n",
    "print('f1_score:' , f1_log)"
   ]
  },
  {
   "cell_type": "code",
   "execution_count": null,
   "id": "31ea2ade",
   "metadata": {
    "scrolled": false
   },
   "outputs": [],
   "source": [
    "plt.plot(fpr_log, tpr_log ,linestyle='--', label = \"Log_grid AUC %0.2f\" % roc_auc_log)\n",
    "plt.plot(fpr_dummy, tpr_dummy ,linestyle='-', label = \"Dummy AUC %0.2f\" % roc_auc_dummy)"
   ]
  },
  {
   "cell_type": "code",
   "execution_count": null,
   "id": "88def28a",
   "metadata": {
    "scrolled": false
   },
   "outputs": [],
   "source": [
    "cm = metrics.confusion_matrix(y_true=y_test, y_pred = (y_prob_log >= 0.5).astype(int) )\n",
    "disp = metrics.ConfusionMatrixDisplay(confusion_matrix = cm)\n",
    "sns.set(rc={'figure.figsize':(4,8)})\n",
    "disp.plot()"
   ]
  },
  {
   "cell_type": "markdown",
   "id": "556d165f",
   "metadata": {},
   "source": [
    "### Feature importance global"
   ]
  },
  {
   "cell_type": "code",
   "execution_count": null,
   "id": "cbd7dab4",
   "metadata": {},
   "outputs": [],
   "source": [
    "feature_imp = pd.DataFrame(names, columns = ['Feature'])\n",
    "feature_imp['importance'] = log_reg.coef_[0]\n",
    "feature_imp.sort_values(by = 'importance', ascending = False, inplace = True)\n",
    "top = feature_imp.head(10)\n",
    "down = feature_imp.tail(10)"
   ]
  },
  {
   "cell_type": "code",
   "execution_count": null,
   "id": "232ccd68",
   "metadata": {},
   "outputs": [],
   "source": [
    "df_imp = pd.concat([top, down])"
   ]
  },
  {
   "cell_type": "code",
   "execution_count": null,
   "id": "70777c00",
   "metadata": {},
   "outputs": [],
   "source": [
    "df_imp.plot.barh(x = 'Feature' , y = 'importance')"
   ]
  },
  {
   "cell_type": "markdown",
   "id": "a461e712",
   "metadata": {},
   "source": [
    "### Feature importance locale"
   ]
  },
  {
   "cell_type": "code",
   "execution_count": null,
   "id": "e8b2eed3",
   "metadata": {},
   "outputs": [],
   "source": [
    "import lime\n",
    "from lime import lime_tabular"
   ]
  },
  {
   "cell_type": "code",
   "execution_count": null,
   "id": "1dc56ad6",
   "metadata": {},
   "outputs": [],
   "source": [
    "explainer = lime_tabular.LimeTabularExplainer(\n",
    "    training_data=np.array(X_train_imp),\n",
    "    feature_names= names,\n",
    "    class_names=['0', '1'],\n",
    "    mode='classification')"
   ]
  },
  {
   "cell_type": "code",
   "execution_count": null,
   "id": "0bd84b88",
   "metadata": {},
   "outputs": [],
   "source": [
    "exp = explainer.explain_instance(\n",
    "    data_row=X_train_imp[7], \n",
    "    predict_fn=log_reg.predict_proba\n",
    ")\n",
    "\n",
    "exp.show_in_notebook(show_table=True)"
   ]
  },
  {
   "cell_type": "markdown",
   "id": "579fcc77",
   "metadata": {},
   "source": [
    "## Random Forest"
   ]
  },
  {
   "cell_type": "code",
   "execution_count": null,
   "id": "88a25795",
   "metadata": {},
   "outputs": [],
   "source": [
    "from sklearn.ensemble import RandomForestClassifier"
   ]
  },
  {
   "cell_type": "code",
   "execution_count": null,
   "id": "5a9e5ee9",
   "metadata": {},
   "outputs": [],
   "source": [
    "rf = RandomForestClassifier()\n",
    "start_time = datetime.now()\n",
    "rf.fit(X_train_imp, y_train_imp)\n",
    "end_time = datetime.now()\n",
    "rf_time = end_time - start_time"
   ]
  },
  {
   "cell_type": "code",
   "execution_count": null,
   "id": "2d114000",
   "metadata": {},
   "outputs": [],
   "source": [
    "y_prob_rf = (rf.predict_proba(X_test_pro)[:,1]).astype('float16')"
   ]
  },
  {
   "cell_type": "code",
   "execution_count": null,
   "id": "e58bcf04",
   "metadata": {},
   "outputs": [],
   "source": [
    "y_pred_rf = rf.predict(X_test_pro)"
   ]
  },
  {
   "cell_type": "code",
   "execution_count": null,
   "id": "f12b3581",
   "metadata": {},
   "outputs": [],
   "source": [
    "sns.histplot(y_prob_rf)"
   ]
  },
  {
   "cell_type": "code",
   "execution_count": null,
   "id": "b368b652",
   "metadata": {},
   "outputs": [],
   "source": [
    "fpr_rf, tpr_rf, th_rf = metrics.roc_curve(y_test, y_prob_rf)\n",
    "roc_auc_rf = metrics.auc(fpr_rf, tpr_rf)\n",
    "print('ROC_auc' , roc_auc_rf)\n",
    "accuracy_score_rf = accuracy_score(y_test, y_pred_rf)\n",
    "print('Accuracy_score:', accuracy_score_rf)\n",
    "recall_rf = recall_score(y_test, y_pred_rf)\n",
    "print('Recall:' , recall_rf)\n",
    "f1_rf = f1_score(y_test, y_pred_rf)\n",
    "print('f1_score:' , f1_rf)"
   ]
  },
  {
   "cell_type": "code",
   "execution_count": null,
   "id": "59021844",
   "metadata": {},
   "outputs": [],
   "source": [
    "plt.plot(fpr_rf, tpr_rf ,linestyle='--', label = \"RF_grid AUC %0.2f\" % roc_auc_rf)\n",
    "plt.plot(fpr_log, tpr_log ,linestyle='--', label = \"Log_grid AUC %0.2f\" % roc_auc_log)\n",
    "plt.plot(fpr_dummy, tpr_dummy ,linestyle='-', label = \"Dummy AUC %0.2f\" % roc_auc_dummy)\n",
    "plt.legend()"
   ]
  },
  {
   "cell_type": "code",
   "execution_count": null,
   "id": "435863d9",
   "metadata": {},
   "outputs": [],
   "source": [
    "cm = metrics.confusion_matrix(y_true=y_test, y_pred = (y_prob_rf >= 0.5).astype(int) )\n",
    "disp = metrics.ConfusionMatrixDisplay(confusion_matrix = cm)\n",
    "sns.set(rc={'figure.figsize':(4,8)})\n",
    "disp.plot()"
   ]
  },
  {
   "cell_type": "markdown",
   "id": "0aad92bc",
   "metadata": {},
   "source": [
    "### Feature importance global"
   ]
  },
  {
   "cell_type": "code",
   "execution_count": null,
   "id": "74652e4d",
   "metadata": {},
   "outputs": [],
   "source": [
    "importance = rf.feature_importances_\n",
    "fi_rf = pd.concat((pd.DataFrame(names, columns = ['Variables']), \n",
    "                      pd.DataFrame(importance, columns = ['Importance'])), axis = 1).sort_values(by='Importance', ascending = False)"
   ]
  },
  {
   "cell_type": "code",
   "execution_count": null,
   "id": "06231303",
   "metadata": {},
   "outputs": [],
   "source": [
    "plt.figure(figsize=(8,8))\n",
    "plt.title('Rf - Top 10 Features')\n",
    "sns.barplot(y = fi_rf['Variables'].head(10),\n",
    "            x = fi_rf['Importance'].head(10))\n",
    "plt.show()"
   ]
  },
  {
   "cell_type": "markdown",
   "id": "d125ae97",
   "metadata": {},
   "source": [
    "### Feature importance locale"
   ]
  },
  {
   "cell_type": "code",
   "execution_count": null,
   "id": "a7933af5",
   "metadata": {},
   "outputs": [],
   "source": [
    "exp = explainer.explain_instance(\n",
    "    data_row=X_train_imp[7], \n",
    "    predict_fn=rf.predict_proba\n",
    ")\n",
    "\n",
    "exp.show_in_notebook(show_table=True)"
   ]
  },
  {
   "cell_type": "markdown",
   "id": "4bff7547",
   "metadata": {},
   "source": [
    "# Xgboost"
   ]
  },
  {
   "cell_type": "code",
   "execution_count": null,
   "id": "ab0f9459",
   "metadata": {},
   "outputs": [],
   "source": [
    "import xgboost as xgb"
   ]
  },
  {
   "cell_type": "code",
   "execution_count": null,
   "id": "72a9ba2c",
   "metadata": {},
   "outputs": [],
   "source": [
    "xgb = xgb.XGBClassifier(use_label_encoder=False , eval_metric = 'logloss')"
   ]
  },
  {
   "cell_type": "code",
   "execution_count": null,
   "id": "cbcd5168",
   "metadata": {},
   "outputs": [],
   "source": [
    "start_time = datetime.now()\n",
    "xgb.fit(X_train_imp, y_train_imp)\n",
    "end_time = datetime.now()\n",
    "xgb_time = end_time - start_time"
   ]
  },
  {
   "cell_type": "code",
   "execution_count": null,
   "id": "10def8a2",
   "metadata": {},
   "outputs": [],
   "source": [
    "y_prob_xgb = (xgb.predict_proba(X_test_pro)[:,1]).astype('float16')"
   ]
  },
  {
   "cell_type": "code",
   "execution_count": null,
   "id": "96e62bee",
   "metadata": {},
   "outputs": [],
   "source": [
    "y_pred_xgb = xgb.predict(X_test_pro)"
   ]
  },
  {
   "cell_type": "code",
   "execution_count": null,
   "id": "adec1958",
   "metadata": {},
   "outputs": [],
   "source": [
    "sns.histplot(y_prob_xgb)"
   ]
  },
  {
   "cell_type": "code",
   "execution_count": null,
   "id": "f3a8557e",
   "metadata": {},
   "outputs": [],
   "source": [
    "fpr_xgb, tpr_xgb, th_xgb = metrics.roc_curve(y_test, y_prob_xgb)\n",
    "roc_auc_xgb = metrics.auc(fpr_xgb, tpr_xgb)\n",
    "print('ROC_auc' , roc_auc_xgb)\n",
    "accuracy_score_xgb = accuracy_score(y_test, y_pred_xgb)\n",
    "print('Accuracy_score:', accuracy_score_xgb)\n",
    "recall_xgb = recall_score(y_test, y_pred_xgb)\n",
    "print('Recall:' , recall_xgb)\n",
    "f1_xgb = f1_score(y_test, y_pred_xgb)\n",
    "print('f1_score:' , f1_xgb)"
   ]
  },
  {
   "cell_type": "code",
   "execution_count": null,
   "id": "d49d9bbe",
   "metadata": {},
   "outputs": [],
   "source": [
    "plt.plot(fpr_xgb, tpr_xgb ,linestyle='--', label = \"XGB_grid AUC %0.2f\" % roc_auc_xgb)\n",
    "plt.plot(fpr_rf, tpr_rf ,linestyle='--', label = \"RF_grid AUC %0.2f\" % roc_auc_rf)\n",
    "plt.plot(fpr_log, tpr_log ,linestyle='--', label = \"Log_grid AUC %0.2f\" % roc_auc_log)\n",
    "plt.plot(fpr_dummy, tpr_dummy ,linestyle='-', label = \"Dummy AUC %0.2f\" % roc_auc_dummy)\n",
    "plt.legend()"
   ]
  },
  {
   "cell_type": "code",
   "execution_count": null,
   "id": "56d262e7",
   "metadata": {},
   "outputs": [],
   "source": [
    "cm = metrics.confusion_matrix(y_true=y_test, y_pred = (y_prob_xgb >= 0.5).astype(int) )\n",
    "disp = metrics.ConfusionMatrixDisplay(confusion_matrix = cm)\n",
    "sns.set(rc={'figure.figsize':(4,8)})\n",
    "disp.plot()"
   ]
  },
  {
   "cell_type": "markdown",
   "id": "614bacbe",
   "metadata": {},
   "source": [
    "## Feature importance global"
   ]
  },
  {
   "cell_type": "code",
   "execution_count": null,
   "id": "b19761f7",
   "metadata": {},
   "outputs": [],
   "source": [
    "importance = xgb.feature_importances_\n",
    "fi_xgb = pd.concat((pd.DataFrame(names, columns = ['Variables']), \n",
    "                      pd.DataFrame(importance, columns = ['Importance'])), axis = 1).sort_values(by='Importance', ascending = False)"
   ]
  },
  {
   "cell_type": "code",
   "execution_count": null,
   "id": "57cb27bd",
   "metadata": {},
   "outputs": [],
   "source": [
    "plt.figure(figsize=(8,8))\n",
    "plt.title('XGB - Top 10 Features')\n",
    "sns.barplot(y = fi_xgb['Variables'].head(10),\n",
    "            x = fi_xgb['Importance'].head(10))\n",
    "plt.show()"
   ]
  },
  {
   "cell_type": "markdown",
   "id": "99808a30",
   "metadata": {},
   "source": [
    "## Feature importance locale"
   ]
  },
  {
   "cell_type": "code",
   "execution_count": null,
   "id": "f309d7f5",
   "metadata": {},
   "outputs": [],
   "source": [
    "exp = explainer.explain_instance(\n",
    "    data_row=X_train_imp[7], \n",
    "    predict_fn=xgb.predict_proba\n",
    ")\n",
    "\n",
    "exp.show_in_notebook(show_table=True)"
   ]
  },
  {
   "cell_type": "markdown",
   "id": "f78d8542",
   "metadata": {},
   "source": [
    "# Comparaison des modèles"
   ]
  },
  {
   "cell_type": "code",
   "execution_count": null,
   "id": "7b3dc1ae",
   "metadata": {},
   "outputs": [],
   "source": [
    "df_comparaison = pd.DataFrame({'Roc_auc' : [roc_auc_log,roc_auc_rf,roc_auc_xgb],\n",
    "                               'Accuracy_score' :[accuracy_score_log,accuracy_score_rf,accuracy_score_xgb],\n",
    "                               'Recall_score' : [recall_log,recall_rf,recall_xgb],\n",
    "                              'F1_score' :[f1_log,f1_rf,f1_xgb],\n",
    "                              'Duration' : [log_time.seconds ,rf_time.seconds,xgb_time.seconds ]}, \n",
    "                              index = ['log','RF', 'XGB'])"
   ]
  },
  {
   "cell_type": "code",
   "execution_count": null,
   "id": "dbb25a89",
   "metadata": {},
   "outputs": [],
   "source": [
    "df_comparaison"
   ]
  },
  {
   "cell_type": "code",
   "execution_count": null,
   "id": "19549e6d",
   "metadata": {},
   "outputs": [],
   "source": [
    "df_comparaison.plot.bar(subplots=True)"
   ]
  },
  {
   "cell_type": "markdown",
   "id": "be0c71f1",
   "metadata": {},
   "source": [
    "# Modèle retenu"
   ]
  },
  {
   "cell_type": "code",
   "execution_count": null,
   "id": "481e4204",
   "metadata": {},
   "outputs": [],
   "source": [
    "def customScore(y_true, y_pred, fn_value=5, fp_value=10):\n",
    "\n",
    "    cm = confusion_matrix(y_true,y_pred)\n",
    "    \n",
    "    tp = cm[0, 0]\n",
    "    fp = cm[1, 0]\n",
    "    fn = cm[0, 1]\n",
    "    tn = cm[1, 1]\n",
    "    \n",
    "    return  fp*fp_value + fn*fn_value  \n",
    "\n",
    "my_scorer = metrics.make_scorer(customScore, greater_is_better=False)"
   ]
  },
  {
   "cell_type": "markdown",
   "id": "1ebead31",
   "metadata": {},
   "source": [
    "## Log Reg"
   ]
  },
  {
   "cell_type": "code",
   "execution_count": null,
   "id": "7511bda9",
   "metadata": {},
   "outputs": [],
   "source": [
    "param_grid_log_reg = {'C': [0.01, 0.1, 1, 10, 100, 500 , 1000]}\n",
    "grid_log_reg=GridSearchCV(LogisticRegression(solver = 'liblinear', max_iter= 3000),param_grid_log_reg ,scoring = my_scorer , cv = 4)\n",
    "grid_log_reg.fit(X_train_imp,y_train_imp)"
   ]
  },
  {
   "cell_type": "code",
   "execution_count": null,
   "id": "95c2b7ee",
   "metadata": {
    "scrolled": false
   },
   "outputs": [],
   "source": [
    "print(grid_log_reg.best_params_) "
   ]
  },
  {
   "cell_type": "code",
   "execution_count": null,
   "id": "1db02792",
   "metadata": {},
   "outputs": [],
   "source": [
    "grid_log_reg = LogisticRegression(solver = 'liblinear', max_iter= 3000 , C = 500)"
   ]
  },
  {
   "cell_type": "code",
   "execution_count": null,
   "id": "292ebace",
   "metadata": {},
   "outputs": [],
   "source": [
    "grid_log_reg.fit(X_train_imp,y_train_imp)"
   ]
  },
  {
   "cell_type": "code",
   "execution_count": null,
   "id": "bc634d72",
   "metadata": {},
   "outputs": [],
   "source": [
    "grid_predictions_log_reg = grid_log_reg.predict(X_test_pro) "
   ]
  },
  {
   "cell_type": "code",
   "execution_count": null,
   "id": "39f5557b",
   "metadata": {},
   "outputs": [],
   "source": [
    "grid_proba_log_reg = (grid_log_reg.predict_proba(X_test_pro)[:,1]).astype('float16')"
   ]
  },
  {
   "cell_type": "code",
   "execution_count": null,
   "id": "27e20aff",
   "metadata": {},
   "outputs": [],
   "source": [
    "sns.histplot(grid_proba_log_reg)"
   ]
  },
  {
   "cell_type": "code",
   "execution_count": null,
   "id": "1358ce47",
   "metadata": {},
   "outputs": [],
   "source": [
    "fpr_grid_log_reg, tpr_grid_log_reg, th_grid_log_reg = metrics.roc_curve(y_test, grid_proba_log_reg)\n",
    "roc_auc_grid_log_reg = metrics.auc(fpr_grid_log_reg, tpr_grid_log_reg)\n",
    "print('ROC_auc' , roc_auc_grid_log_reg)\n",
    "accuracy_score_grid_log_reg = accuracy_score(y_test, grid_predictions_log_reg)\n",
    "print('Accuracy_score:', accuracy_score_grid_log_reg)\n",
    "recall_grid_log_reg = recall_score(y_test, grid_predictions_log_reg)\n",
    "print('Recall:' , recall_grid_log_reg)\n",
    "f1_grid_log_reg = f1_score(y_test, grid_predictions_log_reg)\n",
    "print('f1_score:' , f1_grid_log_reg)"
   ]
  },
  {
   "cell_type": "code",
   "execution_count": null,
   "id": "ff19d3df",
   "metadata": {},
   "outputs": [],
   "source": [
    "plt.plot(fpr_grid_log_reg, tpr_grid_log_reg ,linestyle='--', label = \"Grid_log_reg_grid AUC %0.2f\" % roc_auc_grid_log_reg)\n",
    "plt.plot(fpr_xgb, tpr_xgb ,linestyle='--', label = \"XGB_grid AUC %0.2f\" % roc_auc_xgb)\n",
    "plt.plot(fpr_rf, tpr_rf ,linestyle='--', label = \"RF_grid AUC %0.2f\" % roc_auc_rf)\n",
    "plt.plot(fpr_log, tpr_log ,linestyle='--', label = \"Log_grid AUC %0.2f\" % roc_auc_log)\n",
    "plt.plot(fpr_dummy, tpr_dummy ,linestyle='-', label = \"Dummy AUC %0.2f\" % roc_auc_dummy)\n",
    "plt.legend()"
   ]
  },
  {
   "cell_type": "code",
   "execution_count": null,
   "id": "2a3d5b9a",
   "metadata": {
    "scrolled": true
   },
   "outputs": [],
   "source": [
    "cm = metrics.confusion_matrix(y_true=y_test, y_pred = (grid_proba_log_reg >= 0.5).astype(int) )\n",
    "disp = metrics.ConfusionMatrixDisplay(confusion_matrix = cm)\n",
    "sns.set(rc={'figure.figsize':(4,8)})\n",
    "disp.plot()"
   ]
  },
  {
   "cell_type": "markdown",
   "id": "bc440156",
   "metadata": {},
   "source": [
    "### Feature importance globale"
   ]
  },
  {
   "cell_type": "code",
   "execution_count": null,
   "id": "ae54c07d",
   "metadata": {},
   "outputs": [],
   "source": [
    "feature_imp = pd.DataFrame(names, columns = ['Feature'])\n",
    "feature_imp['importance'] = grid_log_reg.coef_[0]\n",
    "feature_imp.sort_values(by = 'importance', ascending = False, inplace = True)\n",
    "top = feature_imp.head(10)\n",
    "down = feature_imp.tail(10)"
   ]
  },
  {
   "cell_type": "code",
   "execution_count": null,
   "id": "62eb8129",
   "metadata": {},
   "outputs": [],
   "source": [
    "df_imp = pd.concat([top, down])"
   ]
  },
  {
   "cell_type": "code",
   "execution_count": null,
   "id": "305cba36",
   "metadata": {},
   "outputs": [],
   "source": [
    "df_imp.plot.barh(x = 'Feature' , y = 'importance')"
   ]
  },
  {
   "cell_type": "markdown",
   "id": "6afc3f10",
   "metadata": {},
   "source": [
    "### Feature importance locale"
   ]
  },
  {
   "cell_type": "code",
   "execution_count": null,
   "id": "be015f85",
   "metadata": {},
   "outputs": [],
   "source": [
    "explainer = lime_tabular.LimeTabularExplainer(\n",
    "    training_data=np.array(X_train_imp),\n",
    "    feature_names= names,\n",
    "    class_names=['0', '1'],\n",
    "    mode='classification')"
   ]
  },
  {
   "cell_type": "code",
   "execution_count": null,
   "id": "080f1c32",
   "metadata": {},
   "outputs": [],
   "source": [
    "exp = explainer.explain_instance(\n",
    "    data_row=X_train_imp[7], \n",
    "    predict_fn=grid_log_reg.predict_proba\n",
    ")\n",
    "\n",
    "exp.show_in_notebook(show_table=True)"
   ]
  },
  {
   "cell_type": "markdown",
   "id": "3822f18a",
   "metadata": {},
   "source": [
    "## Xgboost"
   ]
  },
  {
   "cell_type": "code",
   "execution_count": null,
   "id": "a0613a02",
   "metadata": {},
   "outputs": [],
   "source": [
    "import xgboost as xgb"
   ]
  },
  {
   "cell_type": "code",
   "execution_count": null,
   "id": "82a356fc",
   "metadata": {
    "scrolled": true
   },
   "outputs": [],
   "source": [
    "parameters = {\n",
    "    'n_estimators' : [100,500, 1000] }\n",
    "grid_xgb = GridSearchCV(xgb.XGBClassifier(use_label_encoder=False),\n",
    "                        param_grid = parameters,\n",
    "                        cv = 4,\n",
    "                        scoring = my_scorer)\n",
    "grid_xgb.fit(X_train_imp, y_train_imp)"
   ]
  },
  {
   "cell_type": "code",
   "execution_count": null,
   "id": "cfb7d246",
   "metadata": {
    "scrolled": true
   },
   "outputs": [],
   "source": [
    "print(grid_xgb.best_params_) "
   ]
  },
  {
   "cell_type": "code",
   "execution_count": null,
   "id": "846ea84c",
   "metadata": {},
   "outputs": [],
   "source": [
    "grid_predictions_xgb = grid_xgb.predict(X_test_pro) "
   ]
  },
  {
   "cell_type": "code",
   "execution_count": null,
   "id": "bef0da84",
   "metadata": {},
   "outputs": [],
   "source": [
    "grid_proba_xgb = (grid_xgb.predict_proba(X_test_pro)[:,1]).astype('float16')"
   ]
  },
  {
   "cell_type": "code",
   "execution_count": null,
   "id": "80181a54",
   "metadata": {},
   "outputs": [],
   "source": [
    "sns.histplot(grid_proba_xgb)"
   ]
  },
  {
   "cell_type": "code",
   "execution_count": null,
   "id": "8870bf7a",
   "metadata": {},
   "outputs": [],
   "source": [
    "fpr_grid_xgb, tpr_grid_xgb, th_grid_xgb = metrics.roc_curve(y_test, grid_proba_xgb)\n",
    "roc_auc_grid_xgb = metrics.auc(fpr_grid_xgb, tpr_grid_xgb)\n",
    "print('ROC_auc' , roc_auc_grid_xgb)\n",
    "accuracy_score_grid_xgb = accuracy_score(y_test, grid_predictions_xgb)\n",
    "print('Accuracy_score:', accuracy_score_grid_xgb)\n",
    "recall_grid_xgb = recall_score(y_test, grid_predictions_xgb)\n",
    "print('Recall:' , recall_grid_xgb)\n",
    "f1_grid_xgb = f1_score(y_test, grid_predictions_xgb)\n",
    "print('f1_score:' , f1_grid_xgb)"
   ]
  },
  {
   "cell_type": "code",
   "execution_count": null,
   "id": "1b950b28",
   "metadata": {},
   "outputs": [],
   "source": [
    "plt.plot(fpr_grid_xgb, tpr_grid_xgb ,linestyle='--', label = \"Grid_xgb_grid AUC %0.2f\" % roc_auc_grid_xgb)\n",
    "plt.plot(fpr_grid_log_reg, tpr_grid_log_reg ,linestyle='--', label = \"Grid_log_reg_grid AUC %0.2f\" % roc_auc_grid_log_reg)\n",
    "plt.plot(fpr_xgb, tpr_xgb ,linestyle='--', label = \"XGB_grid AUC %0.2f\" % roc_auc_xgb)\n",
    "plt.plot(fpr_rf, tpr_rf ,linestyle='--', label = \"RF_grid AUC %0.2f\" % roc_auc_rf)\n",
    "plt.plot(fpr_log, tpr_log ,linestyle='--', label = \"Log_grid AUC %0.2f\" % roc_auc_log)\n",
    "plt.plot(fpr_dummy, tpr_dummy ,linestyle='-', label = \"Dummy AUC %0.2f\" % roc_auc_dummy)\n",
    "plt.legend()"
   ]
  },
  {
   "cell_type": "code",
   "execution_count": null,
   "id": "7099dc67",
   "metadata": {},
   "outputs": [],
   "source": [
    "cm = metrics.confusion_matrix(y_true=y_test, y_pred = (grid_proba_xgb >= 0.5).astype(int) )\n",
    "disp = metrics.ConfusionMatrixDisplay(confusion_matrix = cm)\n",
    "sns.set(rc={'figure.figsize':(4,8)})\n",
    "disp.plot()"
   ]
  },
  {
   "cell_type": "markdown",
   "id": "80b98522",
   "metadata": {},
   "source": [
    "## Préparation au déploiement"
   ]
  },
  {
   "cell_type": "code",
   "execution_count": null,
   "id": "66be4763",
   "metadata": {},
   "outputs": [],
   "source": [
    "import pickle"
   ]
  },
  {
   "cell_type": "code",
   "execution_count": null,
   "id": "dccafb23",
   "metadata": {},
   "outputs": [],
   "source": [
    "pickle.dump(grid_log_reg, open('model_credit.pkl',  'wb'))"
   ]
  },
  {
   "cell_type": "code",
   "execution_count": null,
   "id": "3a140f7d",
   "metadata": {},
   "outputs": [],
   "source": []
  }
 ],
 "metadata": {
  "kernelspec": {
   "display_name": "Python 3 (ipykernel)",
   "language": "python",
   "name": "python3"
  },
  "language_info": {
   "codemirror_mode": {
    "name": "ipython",
    "version": 3
   },
   "file_extension": ".py",
   "mimetype": "text/x-python",
   "name": "python",
   "nbconvert_exporter": "python",
   "pygments_lexer": "ipython3",
   "version": "3.8.8"
  },
  "toc": {
   "base_numbering": 1,
   "nav_menu": {},
   "number_sections": true,
   "sideBar": true,
   "skip_h1_title": false,
   "title_cell": "Table of Contents",
   "title_sidebar": "Contents",
   "toc_cell": false,
   "toc_position": {
    "height": "calc(100% - 180px)",
    "left": "10px",
    "top": "150px",
    "width": "384px"
   },
   "toc_section_display": true,
   "toc_window_display": true
  },
  "varInspector": {
   "cols": {
    "lenName": 16,
    "lenType": 16,
    "lenVar": 40
   },
   "kernels_config": {
    "python": {
     "delete_cmd_postfix": "",
     "delete_cmd_prefix": "del ",
     "library": "var_list.py",
     "varRefreshCmd": "print(var_dic_list())"
    },
    "r": {
     "delete_cmd_postfix": ") ",
     "delete_cmd_prefix": "rm(",
     "library": "var_list.r",
     "varRefreshCmd": "cat(var_dic_list()) "
    }
   },
   "position": {
    "height": "427.844px",
    "left": "1548px",
    "right": "20px",
    "top": "96px",
    "width": "350px"
   },
   "types_to_exclude": [
    "module",
    "function",
    "builtin_function_or_method",
    "instance",
    "_Feature"
   ],
   "window_display": true
  }
 },
 "nbformat": 4,
 "nbformat_minor": 5
}
